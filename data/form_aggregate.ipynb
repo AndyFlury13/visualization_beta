{
 "cells": [
  {
   "cell_type": "markdown",
   "metadata": {},
   "source": [
    "# Semantics Aggregation Notebook\n",
    "This notebook will search through relevant tagworks output files, specifically form files, and aggregate them based on article. In essence, this notebook maps all tagworks form files for a specific article to a single csv that contains the following columns:\n",
    "\n",
    "* article id\n",
    "* article sha256\n",
    "* Credibility Indicator Category \n",
    "* Start \n",
    "* End \n",
    "* Case Number \n",
    "* Indices of Label in Article\n",
    "\n",
    "Each row in the csv is represents a line in the article, which is either a quoted source, an assertion, an argument, or needs fact-checking"
   ]
  },
  {
   "cell_type": "code",
   "execution_count": 1,
   "metadata": {},
   "outputs": [],
   "source": [
    "import json\n",
    "import csv\n",
    "import os\n",
    "import glob\n",
    "import pandas as pd\n",
    "import numpy as np"
   ]
  },
  {
   "cell_type": "code",
   "execution_count": 2,
   "metadata": {},
   "outputs": [],
   "source": [
    "def read_csv_from_path(path):\n",
    "    return pd.read_csv(path)"
   ]
  },
  {
   "cell_type": "code",
   "execution_count": 3,
   "metadata": {},
   "outputs": [],
   "source": [
    "raw_data = read_csv_from_path('Covid_Form1.0.adjudicated-2020-10-04T2314-Tags.csv')"
   ]
  },
  {
   "cell_type": "code",
   "execution_count": 9,
   "metadata": {},
   "outputs": [],
   "source": [
    "def simple_data_from_raw_data(raw_data, article_id):\n",
    "    \"\"\"\n",
    "    Take article_number, start_pos, end_pos, and add Indices of Label in Article. Rename them if necesssary.\n",
    "    Assumption: raw_data contains columns named article_number, start_pos, end_pos\n",
    "    \"\"\"\n",
    "    \n",
    "    default_file_name = \"eta_forms/\";\n",
    "    file_name = default_file_name + str(article_id) + \".csv\"\n",
    "    \n",
    "    simple_data = raw_data[['article_number', 'article_sha256', 'topic_name', 'start_pos', 'end_pos', 'case_number']]\n",
    "    simple_data = simple_data.rename(columns = {'article_number': 'Article ID', 'article_sha256': 'Article sha256', 'topic_name': 'Credibility Indicator Category', 'start_pos': 'Start', 'end_pos': 'End', 'case_number': 'Case Number'})\n",
    "     \n",
    "    if simple_data[simple_data['Article ID'] == article_id].empty:\n",
    "        new_df = pd.DataFrame([[\"no_article\", 0, 0, 0, 0, 0, 0]], columns=['Credibility Indicator Category', 'Question Number', 'Answer Number','Point Recommendation', 'Credibility Indicator Name', 'Start', 'End'])            \n",
    "        print(\"This article_id is not in the csv\")\n",
    "        new_df.to_csv(file_name)\n",
    "        return new_df\n",
    "        \n",
    "    else:\n",
    "        sub_simple_data = simple_data[simple_data['Article ID'] == article_id].copy()\n",
    "        sub_simple_data['Indices of Label in Article'] = sub_simple_data.apply(lambda x: list(range(x['Start'], x['End'] + 1)), axis=1)\n",
    "        sub_simple_data.to_csv(file_name)\n",
    "        return sub_simple_data\n",
    "    "
   ]
  },
  {
   "cell_type": "code",
   "execution_count": 10,
   "metadata": {},
   "outputs": [],
   "source": [
    "simple_data = simple_data_from_raw_data(raw_data, 100059)"
   ]
  },
  {
   "cell_type": "code",
   "execution_count": null,
   "metadata": {},
   "outputs": [],
   "source": []
  },
  {
   "cell_type": "code",
   "execution_count": null,
   "metadata": {},
   "outputs": [],
   "source": []
  },
  {
   "cell_type": "code",
   "execution_count": null,
   "metadata": {},
   "outputs": [],
   "source": []
  }
 ],
 "metadata": {
  "kernelspec": {
   "display_name": "Python 3",
   "language": "python",
   "name": "python3"
  },
  "language_info": {
   "codemirror_mode": {
    "name": "ipython",
    "version": 3
   },
   "file_extension": ".py",
   "mimetype": "text/x-python",
   "name": "python",
   "nbconvert_exporter": "python",
   "pygments_lexer": "ipython3",
   "version": "3.7.4"
  }
 },
 "nbformat": 4,
 "nbformat_minor": 2
}
