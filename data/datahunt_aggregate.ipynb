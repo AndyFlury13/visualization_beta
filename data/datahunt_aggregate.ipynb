{
 "cells": [
  {
   "cell_type": "markdown",
   "metadata": {},
   "source": [
    "# Datahunt Aggregation Notebook\n",
    "The purpose of this notebook is to collect rows associated with datahunt files associated with a specific article.\n",
    "It reads in datahunt csvs and outputs a single csv corresponding to a single article with the following columns:/\n",
    "* Credibility Indicator Category \t\n",
    "* Question Number \t\n",
    "* Answer Number \t\n",
    "* Point Recommendation \t\n",
    "* Credibility Indicator Name \t\n",
    "* Start \t\n",
    "* End\n",
    "\n",
    "Currently, this datahunt files only contain useful information about article 100059"
   ]
  },
  {
   "cell_type": "code",
   "execution_count": 1,
   "metadata": {},
   "outputs": [],
   "source": [
    "import json\n",
    "import csv\n",
    "import os\n",
    "import glob\n",
    "import pandas as pd\n",
    "import numpy as np\n",
    "import re\n",
    "from collections import Counter"
   ]
  },
  {
   "cell_type": "markdown",
   "metadata": {},
   "source": [
    "Read in all the datahunt files from the datahunt folder."
   ]
  },
  {
   "cell_type": "code",
   "execution_count": 2,
   "metadata": {},
   "outputs": [],
   "source": [
    "path =  'datahunts'\n",
    "all_files = glob.glob(path + \"/*.csv\")\n",
    "\n",
    "li = []\n",
    "\n",
    "for filename in all_files:\n",
    "    df = pd.read_csv(filename, index_col=None, header=0)\n",
    "    li.append(df)\n",
    "\n",
    "raw_data = pd.concat(li, axis=0, ignore_index=True)"
   ]
  },
  {
   "cell_type": "code",
   "execution_count": 3,
   "metadata": {
    "scrolled": true
   },
   "outputs": [
    {
     "data": {
      "text/plain": [
       "array([100059])"
      ]
     },
     "execution_count": 3,
     "metadata": {},
     "output_type": "execute_result"
    }
   ],
   "source": [
    "raw_data['article_number'].unique()"
   ]
  },
  {
   "cell_type": "code",
   "execution_count": 4,
   "metadata": {},
   "outputs": [],
   "source": [
    "if not (raw_data[(raw_data[\"start_pos\"] == -1) & (raw_data[\"end_pos\"] == -1)].head()).empty:\n",
    "    print('Warning: there are rows in this file that have invalid start and end indices.'+\n",
    "          'This means their data may correspond to invalid sections of the article.')"
   ]
  },
  {
   "cell_type": "markdown",
   "metadata": {},
   "source": [
    "## Branch 1"
   ]
  },
  {
   "cell_type": "markdown",
   "metadata": {},
   "source": [
    "We'll pick up the:\n",
    "\n",
    "* Contributor ID column\n",
    "* article's sha256\n",
    "* article number\n",
    "* question text\n",
    "* answer text\n",
    "* start of highlight in the article\n",
    "* end of highlight in the article"
   ]
  },
  {
   "cell_type": "code",
   "execution_count": 5,
   "metadata": {
    "scrolled": true
   },
   "outputs": [
    {
     "data": {
      "text/html": [
       "<div>\n",
       "<style scoped>\n",
       "    .dataframe tbody tr th:only-of-type {\n",
       "        vertical-align: middle;\n",
       "    }\n",
       "\n",
       "    .dataframe tbody tr th {\n",
       "        vertical-align: top;\n",
       "    }\n",
       "\n",
       "    .dataframe thead th {\n",
       "        text-align: right;\n",
       "    }\n",
       "</style>\n",
       "<table border=\"1\" class=\"dataframe\">\n",
       "  <thead>\n",
       "    <tr style=\"text-align: right;\">\n",
       "      <th></th>\n",
       "      <th>contributor_uuid</th>\n",
       "      <th>article_sha256</th>\n",
       "      <th>article_number</th>\n",
       "      <th>question_text</th>\n",
       "      <th>answer_text</th>\n",
       "      <th>start_pos</th>\n",
       "      <th>end_pos</th>\n",
       "    </tr>\n",
       "  </thead>\n",
       "  <tbody>\n",
       "    <tr>\n",
       "      <th>0</th>\n",
       "      <td>85579cf2-e01c-45c5-b9e7-34b40467148d</td>\n",
       "      <td>4b537e0ed21179a29ed28da28057d338e67330ae12123c...</td>\n",
       "      <td>100059</td>\n",
       "      <td>Is a general or singular causal claim made? Hi...</td>\n",
       "      <td>General Causation (In general, X causes Y.)</td>\n",
       "      <td>3197</td>\n",
       "      <td>3311</td>\n",
       "    </tr>\n",
       "    <tr>\n",
       "      <th>1</th>\n",
       "      <td>85579cf2-e01c-45c5-b9e7-34b40467148d</td>\n",
       "      <td>4b537e0ed21179a29ed28da28057d338e67330ae12123c...</td>\n",
       "      <td>100059</td>\n",
       "      <td>What evidence is given for the primary causal ...</td>\n",
       "      <td>Correlation</td>\n",
       "      <td>3375</td>\n",
       "      <td>3384</td>\n",
       "    </tr>\n",
       "    <tr>\n",
       "      <th>2</th>\n",
       "      <td>85579cf2-e01c-45c5-b9e7-34b40467148d</td>\n",
       "      <td>4b537e0ed21179a29ed28da28057d338e67330ae12123c...</td>\n",
       "      <td>100059</td>\n",
       "      <td>What evidence is given for the primary causal ...</td>\n",
       "      <td>Correlation</td>\n",
       "      <td>3375</td>\n",
       "      <td>3528</td>\n",
       "    </tr>\n",
       "  </tbody>\n",
       "</table>\n",
       "</div>"
      ],
      "text/plain": [
       "                       contributor_uuid  \\\n",
       "0  85579cf2-e01c-45c5-b9e7-34b40467148d   \n",
       "1  85579cf2-e01c-45c5-b9e7-34b40467148d   \n",
       "2  85579cf2-e01c-45c5-b9e7-34b40467148d   \n",
       "\n",
       "                                      article_sha256  article_number  \\\n",
       "0  4b537e0ed21179a29ed28da28057d338e67330ae12123c...          100059   \n",
       "1  4b537e0ed21179a29ed28da28057d338e67330ae12123c...          100059   \n",
       "2  4b537e0ed21179a29ed28da28057d338e67330ae12123c...          100059   \n",
       "\n",
       "                                       question_text  \\\n",
       "0  Is a general or singular causal claim made? Hi...   \n",
       "1  What evidence is given for the primary causal ...   \n",
       "2  What evidence is given for the primary causal ...   \n",
       "\n",
       "                                   answer_text  start_pos  end_pos  \n",
       "0  General Causation (In general, X causes Y.)       3197     3311  \n",
       "1                                  Correlation       3375     3384  \n",
       "2                                  Correlation       3375     3528  "
      ]
     },
     "execution_count": 5,
     "metadata": {},
     "output_type": "execute_result"
    }
   ],
   "source": [
    "clean_data = raw_data[[\"contributor_uuid\", \"article_sha256\", \"article_number\", \"question_text\", \"answer_text\", \"start_pos\", \"end_pos\"]]\n",
    "clean_data.head(3)"
   ]
  },
  {
   "cell_type": "markdown",
   "metadata": {},
   "source": [
    "## Select Functions"
   ]
  },
  {
   "cell_type": "code",
   "execution_count": 6,
   "metadata": {},
   "outputs": [],
   "source": [
    "# Selects rows with the inputted user_id. \n",
    "def select_user_id(df, user_id):\n",
    "    return df[df[\"contributor_uuid\"] == user_id]"
   ]
  },
  {
   "cell_type": "code",
   "execution_count": 7,
   "metadata": {},
   "outputs": [],
   "source": [
    "# Selects rows with the inputted article_id. \n",
    "def select_article_id(df, article_id):\n",
    "    return df[df[\"article_number\"] == article_id]"
   ]
  },
  {
   "cell_type": "code",
   "execution_count": 8,
   "metadata": {},
   "outputs": [],
   "source": [
    "# Takes out invalid start_pos and end_pos indices from the dataframe. \n",
    "def select_valid_indices(df):\n",
    "    return df[(df[\"start_pos\"] != 0) | (df[\"start_pos\"] != -1) | (df[\"end_pos\"] != 0) | (df[\"start_pos\"] != -1)]"
   ]
  },
  {
   "cell_type": "markdown",
   "metadata": {},
   "source": [
    "## Convert to CSV"
   ]
  },
  {
   "cell_type": "code",
   "execution_count": 9,
   "metadata": {},
   "outputs": [],
   "source": [
    "# Converts dataframe to CSV.\n",
    "def convert_to_csv(df, category, arg):\n",
    "    if category == \"user_id\":\n",
    "        df = select_user_id(df, arg)\n",
    "        name = str(df[\"contributor_uuid\"][0])\n",
    "    elif category == \"article_id\":\n",
    "        df = select_article_id(df, arg)\n",
    "        name = str(df[\"article_number\"][0])\n",
    "    elif category == \"valid_indices\":\n",
    "        df = select_valid_indices(df)\n",
    "        name = \"valid\"\n",
    "    else:\n",
    "        raise ValueError(\"Invalid category type\")\n",
    "        \n",
    "    # \"[articleid]_[userid]_user_contributions.csv\"\n",
    "    df.to_csv(\"aggregate_datahunts/\" + name + \"_user_contributions.csv\")"
   ]
  },
  {
   "cell_type": "code",
   "execution_count": 10,
   "metadata": {},
   "outputs": [],
   "source": [
    "# Converts dataframe to CSV, putting article_number and contributor_uuid in the name. \n",
    "def convert_to_csv_user_article(df, user_id, article_id):\n",
    "    df = select_user_id(df, user_id)\n",
    "    df = select_article_id(df, article_id)\n",
    "    df = select_valid_indices(df)\n",
    "    name = str(df[\"article_number\"][0]) + \"_\" + str(df[\"contributor_uuid\"][0])\n",
    "    df.to_csv(\"aggregate_datahunts/\" + name + \"_user_contributions.csv\")"
   ]
  },
  {
   "cell_type": "markdown",
   "metadata": {},
   "source": [
    "### Test"
   ]
  },
  {
   "cell_type": "code",
   "execution_count": 11,
   "metadata": {
    "scrolled": true
   },
   "outputs": [
    {
     "data": {
      "text/html": [
       "<div>\n",
       "<style scoped>\n",
       "    .dataframe tbody tr th:only-of-type {\n",
       "        vertical-align: middle;\n",
       "    }\n",
       "\n",
       "    .dataframe tbody tr th {\n",
       "        vertical-align: top;\n",
       "    }\n",
       "\n",
       "    .dataframe thead th {\n",
       "        text-align: right;\n",
       "    }\n",
       "</style>\n",
       "<table border=\"1\" class=\"dataframe\">\n",
       "  <thead>\n",
       "    <tr style=\"text-align: right;\">\n",
       "      <th></th>\n",
       "      <th>contributor_uuid</th>\n",
       "      <th>article_sha256</th>\n",
       "      <th>article_number</th>\n",
       "      <th>question_text</th>\n",
       "      <th>answer_text</th>\n",
       "      <th>start_pos</th>\n",
       "      <th>end_pos</th>\n",
       "    </tr>\n",
       "  </thead>\n",
       "  <tbody>\n",
       "    <tr>\n",
       "      <th>0</th>\n",
       "      <td>85579cf2-e01c-45c5-b9e7-34b40467148d</td>\n",
       "      <td>4b537e0ed21179a29ed28da28057d338e67330ae12123c...</td>\n",
       "      <td>100059</td>\n",
       "      <td>Is a general or singular causal claim made? Hi...</td>\n",
       "      <td>General Causation (In general, X causes Y.)</td>\n",
       "      <td>3197</td>\n",
       "      <td>3311</td>\n",
       "    </tr>\n",
       "    <tr>\n",
       "      <th>1</th>\n",
       "      <td>85579cf2-e01c-45c5-b9e7-34b40467148d</td>\n",
       "      <td>4b537e0ed21179a29ed28da28057d338e67330ae12123c...</td>\n",
       "      <td>100059</td>\n",
       "      <td>What evidence is given for the primary causal ...</td>\n",
       "      <td>Correlation</td>\n",
       "      <td>3375</td>\n",
       "      <td>3384</td>\n",
       "    </tr>\n",
       "    <tr>\n",
       "      <th>2</th>\n",
       "      <td>85579cf2-e01c-45c5-b9e7-34b40467148d</td>\n",
       "      <td>4b537e0ed21179a29ed28da28057d338e67330ae12123c...</td>\n",
       "      <td>100059</td>\n",
       "      <td>What evidence is given for the primary causal ...</td>\n",
       "      <td>Correlation</td>\n",
       "      <td>3375</td>\n",
       "      <td>3528</td>\n",
       "    </tr>\n",
       "  </tbody>\n",
       "</table>\n",
       "</div>"
      ],
      "text/plain": [
       "                       contributor_uuid  \\\n",
       "0  85579cf2-e01c-45c5-b9e7-34b40467148d   \n",
       "1  85579cf2-e01c-45c5-b9e7-34b40467148d   \n",
       "2  85579cf2-e01c-45c5-b9e7-34b40467148d   \n",
       "\n",
       "                                      article_sha256  article_number  \\\n",
       "0  4b537e0ed21179a29ed28da28057d338e67330ae12123c...          100059   \n",
       "1  4b537e0ed21179a29ed28da28057d338e67330ae12123c...          100059   \n",
       "2  4b537e0ed21179a29ed28da28057d338e67330ae12123c...          100059   \n",
       "\n",
       "                                       question_text  \\\n",
       "0  Is a general or singular causal claim made? Hi...   \n",
       "1  What evidence is given for the primary causal ...   \n",
       "2  What evidence is given for the primary causal ...   \n",
       "\n",
       "                                   answer_text  start_pos  end_pos  \n",
       "0  General Causation (In general, X causes Y.)       3197     3311  \n",
       "1                                  Correlation       3375     3384  \n",
       "2                                  Correlation       3375     3528  "
      ]
     },
     "execution_count": 11,
     "metadata": {},
     "output_type": "execute_result"
    }
   ],
   "source": [
    "select_article_id(clean_data, 100059).head(3)"
   ]
  },
  {
   "cell_type": "code",
   "execution_count": 12,
   "metadata": {},
   "outputs": [
    {
     "ename": "FileNotFoundError",
     "evalue": "[Errno 2] No such file or directory: 'aggregate_datahunts/100059_user_contributions.csv'",
     "output_type": "error",
     "traceback": [
      "\u001b[0;31m---------------------------------------------------------------------------\u001b[0m",
      "\u001b[0;31mFileNotFoundError\u001b[0m                         Traceback (most recent call last)",
      "\u001b[0;32m<ipython-input-12-21ea91ebdb7d>\u001b[0m in \u001b[0;36m<module>\u001b[0;34m\u001b[0m\n\u001b[0;32m----> 1\u001b[0;31m \u001b[0mconvert_to_csv\u001b[0m\u001b[0;34m(\u001b[0m\u001b[0mclean_data\u001b[0m\u001b[0;34m,\u001b[0m \u001b[0;34m\"article_id\"\u001b[0m\u001b[0;34m,\u001b[0m \u001b[0;36m100059\u001b[0m\u001b[0;34m)\u001b[0m\u001b[0;34m\u001b[0m\u001b[0;34m\u001b[0m\u001b[0m\n\u001b[0m",
      "\u001b[0;32m<ipython-input-9-213a8cb32f58>\u001b[0m in \u001b[0;36mconvert_to_csv\u001b[0;34m(df, category, arg)\u001b[0m\n\u001b[1;32m     14\u001b[0m \u001b[0;34m\u001b[0m\u001b[0m\n\u001b[1;32m     15\u001b[0m     \u001b[0;31m# \"[articleid]_[userid]_user_contributions.csv\"\u001b[0m\u001b[0;34m\u001b[0m\u001b[0;34m\u001b[0m\u001b[0;34m\u001b[0m\u001b[0m\n\u001b[0;32m---> 16\u001b[0;31m     \u001b[0mdf\u001b[0m\u001b[0;34m.\u001b[0m\u001b[0mto_csv\u001b[0m\u001b[0;34m(\u001b[0m\u001b[0;34m\"aggregate_datahunts/\"\u001b[0m \u001b[0;34m+\u001b[0m \u001b[0mname\u001b[0m \u001b[0;34m+\u001b[0m \u001b[0;34m\"_user_contributions.csv\"\u001b[0m\u001b[0;34m)\u001b[0m\u001b[0;34m\u001b[0m\u001b[0;34m\u001b[0m\u001b[0m\n\u001b[0m",
      "\u001b[0;32m~/opt/anaconda3/lib/python3.8/site-packages/pandas/core/generic.py\u001b[0m in \u001b[0;36mto_csv\u001b[0;34m(self, path_or_buf, sep, na_rep, float_format, columns, header, index, index_label, mode, encoding, compression, quoting, quotechar, line_terminator, chunksize, date_format, doublequote, escapechar, decimal)\u001b[0m\n\u001b[1;32m   3202\u001b[0m             \u001b[0mdecimal\u001b[0m\u001b[0;34m=\u001b[0m\u001b[0mdecimal\u001b[0m\u001b[0;34m,\u001b[0m\u001b[0;34m\u001b[0m\u001b[0;34m\u001b[0m\u001b[0m\n\u001b[1;32m   3203\u001b[0m         )\n\u001b[0;32m-> 3204\u001b[0;31m         \u001b[0mformatter\u001b[0m\u001b[0;34m.\u001b[0m\u001b[0msave\u001b[0m\u001b[0;34m(\u001b[0m\u001b[0;34m)\u001b[0m\u001b[0;34m\u001b[0m\u001b[0;34m\u001b[0m\u001b[0m\n\u001b[0m\u001b[1;32m   3205\u001b[0m \u001b[0;34m\u001b[0m\u001b[0m\n\u001b[1;32m   3206\u001b[0m         \u001b[0;32mif\u001b[0m \u001b[0mpath_or_buf\u001b[0m \u001b[0;32mis\u001b[0m \u001b[0;32mNone\u001b[0m\u001b[0;34m:\u001b[0m\u001b[0;34m\u001b[0m\u001b[0;34m\u001b[0m\u001b[0m\n",
      "\u001b[0;32m~/opt/anaconda3/lib/python3.8/site-packages/pandas/io/formats/csvs.py\u001b[0m in \u001b[0;36msave\u001b[0;34m(self)\u001b[0m\n\u001b[1;32m    182\u001b[0m             \u001b[0mclose\u001b[0m \u001b[0;34m=\u001b[0m \u001b[0;32mFalse\u001b[0m\u001b[0;34m\u001b[0m\u001b[0;34m\u001b[0m\u001b[0m\n\u001b[1;32m    183\u001b[0m         \u001b[0;32melse\u001b[0m\u001b[0;34m:\u001b[0m\u001b[0;34m\u001b[0m\u001b[0;34m\u001b[0m\u001b[0m\n\u001b[0;32m--> 184\u001b[0;31m             f, handles = get_handle(\n\u001b[0m\u001b[1;32m    185\u001b[0m                 \u001b[0mself\u001b[0m\u001b[0;34m.\u001b[0m\u001b[0mpath_or_buf\u001b[0m\u001b[0;34m,\u001b[0m\u001b[0;34m\u001b[0m\u001b[0;34m\u001b[0m\u001b[0m\n\u001b[1;32m    186\u001b[0m                 \u001b[0mself\u001b[0m\u001b[0;34m.\u001b[0m\u001b[0mmode\u001b[0m\u001b[0;34m,\u001b[0m\u001b[0;34m\u001b[0m\u001b[0;34m\u001b[0m\u001b[0m\n",
      "\u001b[0;32m~/opt/anaconda3/lib/python3.8/site-packages/pandas/io/common.py\u001b[0m in \u001b[0;36mget_handle\u001b[0;34m(path_or_buf, mode, encoding, compression, memory_map, is_text)\u001b[0m\n\u001b[1;32m    426\u001b[0m         \u001b[0;32mif\u001b[0m \u001b[0mencoding\u001b[0m\u001b[0;34m:\u001b[0m\u001b[0;34m\u001b[0m\u001b[0;34m\u001b[0m\u001b[0m\n\u001b[1;32m    427\u001b[0m             \u001b[0;31m# Encoding\u001b[0m\u001b[0;34m\u001b[0m\u001b[0;34m\u001b[0m\u001b[0;34m\u001b[0m\u001b[0m\n\u001b[0;32m--> 428\u001b[0;31m             \u001b[0mf\u001b[0m \u001b[0;34m=\u001b[0m \u001b[0mopen\u001b[0m\u001b[0;34m(\u001b[0m\u001b[0mpath_or_buf\u001b[0m\u001b[0;34m,\u001b[0m \u001b[0mmode\u001b[0m\u001b[0;34m,\u001b[0m \u001b[0mencoding\u001b[0m\u001b[0;34m=\u001b[0m\u001b[0mencoding\u001b[0m\u001b[0;34m,\u001b[0m \u001b[0mnewline\u001b[0m\u001b[0;34m=\u001b[0m\u001b[0;34m\"\"\u001b[0m\u001b[0;34m)\u001b[0m\u001b[0;34m\u001b[0m\u001b[0;34m\u001b[0m\u001b[0m\n\u001b[0m\u001b[1;32m    429\u001b[0m         \u001b[0;32melif\u001b[0m \u001b[0mis_text\u001b[0m\u001b[0;34m:\u001b[0m\u001b[0;34m\u001b[0m\u001b[0;34m\u001b[0m\u001b[0m\n\u001b[1;32m    430\u001b[0m             \u001b[0;31m# No explicit encoding\u001b[0m\u001b[0;34m\u001b[0m\u001b[0;34m\u001b[0m\u001b[0;34m\u001b[0m\u001b[0m\n",
      "\u001b[0;31mFileNotFoundError\u001b[0m: [Errno 2] No such file or directory: 'aggregate_datahunts/100059_user_contributions.csv'"
     ]
    }
   ],
   "source": [
    "convert_to_csv(clean_data, \"article_id\", 100059)"
   ]
  },
  {
   "cell_type": "code",
   "execution_count": null,
   "metadata": {},
   "outputs": [],
   "source": [
    "convert_to_csv(clean_data, \"user_id\", \"85579cf2-e01c-45c5-b9e7-34b40467148d\")"
   ]
  },
  {
   "cell_type": "code",
   "execution_count": 13,
   "metadata": {},
   "outputs": [
    {
     "data": {
      "text/html": [
       "<div>\n",
       "<style scoped>\n",
       "    .dataframe tbody tr th:only-of-type {\n",
       "        vertical-align: middle;\n",
       "    }\n",
       "\n",
       "    .dataframe tbody tr th {\n",
       "        vertical-align: top;\n",
       "    }\n",
       "\n",
       "    .dataframe thead th {\n",
       "        text-align: right;\n",
       "    }\n",
       "</style>\n",
       "<table border=\"1\" class=\"dataframe\">\n",
       "  <thead>\n",
       "    <tr style=\"text-align: right;\">\n",
       "      <th></th>\n",
       "      <th>contributor_uuid</th>\n",
       "      <th>article_sha256</th>\n",
       "      <th>article_number</th>\n",
       "      <th>question_text</th>\n",
       "      <th>answer_text</th>\n",
       "      <th>start_pos</th>\n",
       "      <th>end_pos</th>\n",
       "    </tr>\n",
       "  </thead>\n",
       "  <tbody>\n",
       "  </tbody>\n",
       "</table>\n",
       "</div>"
      ],
      "text/plain": [
       "Empty DataFrame\n",
       "Columns: [contributor_uuid, article_sha256, article_number, question_text, answer_text, start_pos, end_pos]\n",
       "Index: []"
      ]
     },
     "execution_count": 13,
     "metadata": {},
     "output_type": "execute_result"
    }
   ],
   "source": [
    "clean_data[clean_data[\"article_number\"] == 2005]"
   ]
  },
  {
   "cell_type": "code",
   "execution_count": 14,
   "metadata": {},
   "outputs": [
    {
     "data": {
      "text/html": [
       "<div>\n",
       "<style scoped>\n",
       "    .dataframe tbody tr th:only-of-type {\n",
       "        vertical-align: middle;\n",
       "    }\n",
       "\n",
       "    .dataframe tbody tr th {\n",
       "        vertical-align: top;\n",
       "    }\n",
       "\n",
       "    .dataframe thead th {\n",
       "        text-align: right;\n",
       "    }\n",
       "</style>\n",
       "<table border=\"1\" class=\"dataframe\">\n",
       "  <thead>\n",
       "    <tr style=\"text-align: right;\">\n",
       "      <th></th>\n",
       "      <th>contributor_uuid</th>\n",
       "      <th>article_sha256</th>\n",
       "      <th>article_number</th>\n",
       "      <th>question_text</th>\n",
       "      <th>answer_text</th>\n",
       "      <th>start_pos</th>\n",
       "      <th>end_pos</th>\n",
       "    </tr>\n",
       "  </thead>\n",
       "  <tbody>\n",
       "    <tr>\n",
       "      <th>0</th>\n",
       "      <td>85579cf2-e01c-45c5-b9e7-34b40467148d</td>\n",
       "      <td>4b537e0ed21179a29ed28da28057d338e67330ae12123c...</td>\n",
       "      <td>100059</td>\n",
       "      <td>Is a general or singular causal claim made? Hi...</td>\n",
       "      <td>General Causation (In general, X causes Y.)</td>\n",
       "      <td>3197</td>\n",
       "      <td>3311</td>\n",
       "    </tr>\n",
       "    <tr>\n",
       "      <th>1</th>\n",
       "      <td>85579cf2-e01c-45c5-b9e7-34b40467148d</td>\n",
       "      <td>4b537e0ed21179a29ed28da28057d338e67330ae12123c...</td>\n",
       "      <td>100059</td>\n",
       "      <td>What evidence is given for the primary causal ...</td>\n",
       "      <td>Correlation</td>\n",
       "      <td>3375</td>\n",
       "      <td>3384</td>\n",
       "    </tr>\n",
       "    <tr>\n",
       "      <th>2</th>\n",
       "      <td>85579cf2-e01c-45c5-b9e7-34b40467148d</td>\n",
       "      <td>4b537e0ed21179a29ed28da28057d338e67330ae12123c...</td>\n",
       "      <td>100059</td>\n",
       "      <td>What evidence is given for the primary causal ...</td>\n",
       "      <td>Correlation</td>\n",
       "      <td>3375</td>\n",
       "      <td>3528</td>\n",
       "    </tr>\n",
       "    <tr>\n",
       "      <th>3</th>\n",
       "      <td>85579cf2-e01c-45c5-b9e7-34b40467148d</td>\n",
       "      <td>4b537e0ed21179a29ed28da28057d338e67330ae12123c...</td>\n",
       "      <td>100059</td>\n",
       "      <td>How representative is the sample of the popula...</td>\n",
       "      <td>Not at all representative</td>\n",
       "      <td>0</td>\n",
       "      <td>0</td>\n",
       "    </tr>\n",
       "    <tr>\n",
       "      <th>4</th>\n",
       "      <td>85579cf2-e01c-45c5-b9e7-34b40467148d</td>\n",
       "      <td>4b537e0ed21179a29ed28da28057d338e67330ae12123c...</td>\n",
       "      <td>100059</td>\n",
       "      <td>What is the best alternative explanation you c...</td>\n",
       "      <td>Even as the author says, secondary factors can...</td>\n",
       "      <td>0</td>\n",
       "      <td>0</td>\n",
       "    </tr>\n",
       "    <tr>\n",
       "      <th>...</th>\n",
       "      <td>...</td>\n",
       "      <td>...</td>\n",
       "      <td>...</td>\n",
       "      <td>...</td>\n",
       "      <td>...</td>\n",
       "      <td>...</td>\n",
       "      <td>...</td>\n",
       "    </tr>\n",
       "    <tr>\n",
       "      <th>1245</th>\n",
       "      <td>bd786026-bad5-4fa8-9a3a-38ca03a16412</td>\n",
       "      <td>4b537e0ed21179a29ed28da28057d338e67330ae12123c...</td>\n",
       "      <td>100059</td>\n",
       "      <td>Given the information you have, how likely is ...</td>\n",
       "      <td>Very Unlikely</td>\n",
       "      <td>0</td>\n",
       "      <td>0</td>\n",
       "    </tr>\n",
       "    <tr>\n",
       "      <th>1246</th>\n",
       "      <td>bd786026-bad5-4fa8-9a3a-38ca03a16412</td>\n",
       "      <td>4b537e0ed21179a29ed28da28057d338e67330ae12123c...</td>\n",
       "      <td>100059</td>\n",
       "      <td>Given the information you have, how likely is ...</td>\n",
       "      <td>Somewhat Unlikely</td>\n",
       "      <td>0</td>\n",
       "      <td>0</td>\n",
       "    </tr>\n",
       "    <tr>\n",
       "      <th>1247</th>\n",
       "      <td>bd786026-bad5-4fa8-9a3a-38ca03a16412</td>\n",
       "      <td>4b537e0ed21179a29ed28da28057d338e67330ae12123c...</td>\n",
       "      <td>100059</td>\n",
       "      <td>Does the author suggest in any way that furthe...</td>\n",
       "      <td>Yes, implicitly</td>\n",
       "      <td>1023</td>\n",
       "      <td>1106</td>\n",
       "    </tr>\n",
       "    <tr>\n",
       "      <th>1248</th>\n",
       "      <td>bd786026-bad5-4fa8-9a3a-38ca03a16412</td>\n",
       "      <td>4b537e0ed21179a29ed28da28057d338e67330ae12123c...</td>\n",
       "      <td>100059</td>\n",
       "      <td>How difficult was this task for you, on the wh...</td>\n",
       "      <td>6</td>\n",
       "      <td>0</td>\n",
       "      <td>0</td>\n",
       "    </tr>\n",
       "    <tr>\n",
       "      <th>1249</th>\n",
       "      <td>bd786026-bad5-4fa8-9a3a-38ca03a16412</td>\n",
       "      <td>4b537e0ed21179a29ed28da28057d338e67330ae12123c...</td>\n",
       "      <td>100059</td>\n",
       "      <td>How confident are you about your answers, on t...</td>\n",
       "      <td>9</td>\n",
       "      <td>0</td>\n",
       "      <td>0</td>\n",
       "    </tr>\n",
       "  </tbody>\n",
       "</table>\n",
       "<p>1250 rows × 7 columns</p>\n",
       "</div>"
      ],
      "text/plain": [
       "                          contributor_uuid  \\\n",
       "0     85579cf2-e01c-45c5-b9e7-34b40467148d   \n",
       "1     85579cf2-e01c-45c5-b9e7-34b40467148d   \n",
       "2     85579cf2-e01c-45c5-b9e7-34b40467148d   \n",
       "3     85579cf2-e01c-45c5-b9e7-34b40467148d   \n",
       "4     85579cf2-e01c-45c5-b9e7-34b40467148d   \n",
       "...                                    ...   \n",
       "1245  bd786026-bad5-4fa8-9a3a-38ca03a16412   \n",
       "1246  bd786026-bad5-4fa8-9a3a-38ca03a16412   \n",
       "1247  bd786026-bad5-4fa8-9a3a-38ca03a16412   \n",
       "1248  bd786026-bad5-4fa8-9a3a-38ca03a16412   \n",
       "1249  bd786026-bad5-4fa8-9a3a-38ca03a16412   \n",
       "\n",
       "                                         article_sha256  article_number  \\\n",
       "0     4b537e0ed21179a29ed28da28057d338e67330ae12123c...          100059   \n",
       "1     4b537e0ed21179a29ed28da28057d338e67330ae12123c...          100059   \n",
       "2     4b537e0ed21179a29ed28da28057d338e67330ae12123c...          100059   \n",
       "3     4b537e0ed21179a29ed28da28057d338e67330ae12123c...          100059   \n",
       "4     4b537e0ed21179a29ed28da28057d338e67330ae12123c...          100059   \n",
       "...                                                 ...             ...   \n",
       "1245  4b537e0ed21179a29ed28da28057d338e67330ae12123c...          100059   \n",
       "1246  4b537e0ed21179a29ed28da28057d338e67330ae12123c...          100059   \n",
       "1247  4b537e0ed21179a29ed28da28057d338e67330ae12123c...          100059   \n",
       "1248  4b537e0ed21179a29ed28da28057d338e67330ae12123c...          100059   \n",
       "1249  4b537e0ed21179a29ed28da28057d338e67330ae12123c...          100059   \n",
       "\n",
       "                                          question_text  \\\n",
       "0     Is a general or singular causal claim made? Hi...   \n",
       "1     What evidence is given for the primary causal ...   \n",
       "2     What evidence is given for the primary causal ...   \n",
       "3     How representative is the sample of the popula...   \n",
       "4     What is the best alternative explanation you c...   \n",
       "...                                                 ...   \n",
       "1245  Given the information you have, how likely is ...   \n",
       "1246  Given the information you have, how likely is ...   \n",
       "1247  Does the author suggest in any way that furthe...   \n",
       "1248  How difficult was this task for you, on the wh...   \n",
       "1249  How confident are you about your answers, on t...   \n",
       "\n",
       "                                            answer_text  start_pos  end_pos  \n",
       "0           General Causation (In general, X causes Y.)       3197     3311  \n",
       "1                                           Correlation       3375     3384  \n",
       "2                                           Correlation       3375     3528  \n",
       "3                             Not at all representative          0        0  \n",
       "4     Even as the author says, secondary factors can...          0        0  \n",
       "...                                                 ...        ...      ...  \n",
       "1245                                      Very Unlikely          0        0  \n",
       "1246                                  Somewhat Unlikely          0        0  \n",
       "1247                                    Yes, implicitly       1023     1106  \n",
       "1248                                                  6          0        0  \n",
       "1249                                                  9          0        0  \n",
       "\n",
       "[1250 rows x 7 columns]"
      ]
     },
     "execution_count": 14,
     "metadata": {},
     "output_type": "execute_result"
    }
   ],
   "source": [
    "clean_data"
   ]
  },
  {
   "cell_type": "code",
   "execution_count": 15,
   "metadata": {},
   "outputs": [
    {
     "ename": "FileNotFoundError",
     "evalue": "[Errno 2] No such file or directory: 'aggregate_datahunts/100059_85579cf2-e01c-45c5-b9e7-34b40467148d_user_contributions.csv'",
     "output_type": "error",
     "traceback": [
      "\u001b[0;31m---------------------------------------------------------------------------\u001b[0m",
      "\u001b[0;31mFileNotFoundError\u001b[0m                         Traceback (most recent call last)",
      "\u001b[0;32m<ipython-input-15-46d3c858fd5d>\u001b[0m in \u001b[0;36m<module>\u001b[0;34m\u001b[0m\n\u001b[0;32m----> 1\u001b[0;31m \u001b[0mconvert_to_csv_user_article\u001b[0m\u001b[0;34m(\u001b[0m\u001b[0mclean_data\u001b[0m\u001b[0;34m,\u001b[0m \u001b[0;34m\"85579cf2-e01c-45c5-b9e7-34b40467148d\"\u001b[0m\u001b[0;34m,\u001b[0m \u001b[0;36m100059\u001b[0m\u001b[0;34m)\u001b[0m\u001b[0;34m\u001b[0m\u001b[0;34m\u001b[0m\u001b[0m\n\u001b[0m",
      "\u001b[0;32m<ipython-input-10-f79dd8dfa009>\u001b[0m in \u001b[0;36mconvert_to_csv_user_article\u001b[0;34m(df, user_id, article_id)\u001b[0m\n\u001b[1;32m      5\u001b[0m     \u001b[0mdf\u001b[0m \u001b[0;34m=\u001b[0m \u001b[0mselect_valid_indices\u001b[0m\u001b[0;34m(\u001b[0m\u001b[0mdf\u001b[0m\u001b[0;34m)\u001b[0m\u001b[0;34m\u001b[0m\u001b[0;34m\u001b[0m\u001b[0m\n\u001b[1;32m      6\u001b[0m     \u001b[0mname\u001b[0m \u001b[0;34m=\u001b[0m \u001b[0mstr\u001b[0m\u001b[0;34m(\u001b[0m\u001b[0mdf\u001b[0m\u001b[0;34m[\u001b[0m\u001b[0;34m\"article_number\"\u001b[0m\u001b[0;34m]\u001b[0m\u001b[0;34m[\u001b[0m\u001b[0;36m0\u001b[0m\u001b[0;34m]\u001b[0m\u001b[0;34m)\u001b[0m \u001b[0;34m+\u001b[0m \u001b[0;34m\"_\"\u001b[0m \u001b[0;34m+\u001b[0m \u001b[0mstr\u001b[0m\u001b[0;34m(\u001b[0m\u001b[0mdf\u001b[0m\u001b[0;34m[\u001b[0m\u001b[0;34m\"contributor_uuid\"\u001b[0m\u001b[0;34m]\u001b[0m\u001b[0;34m[\u001b[0m\u001b[0;36m0\u001b[0m\u001b[0;34m]\u001b[0m\u001b[0;34m)\u001b[0m\u001b[0;34m\u001b[0m\u001b[0;34m\u001b[0m\u001b[0m\n\u001b[0;32m----> 7\u001b[0;31m     \u001b[0mdf\u001b[0m\u001b[0;34m.\u001b[0m\u001b[0mto_csv\u001b[0m\u001b[0;34m(\u001b[0m\u001b[0;34m\"aggregate_datahunts/\"\u001b[0m \u001b[0;34m+\u001b[0m \u001b[0mname\u001b[0m \u001b[0;34m+\u001b[0m \u001b[0;34m\"_user_contributions.csv\"\u001b[0m\u001b[0;34m)\u001b[0m\u001b[0;34m\u001b[0m\u001b[0;34m\u001b[0m\u001b[0m\n\u001b[0m",
      "\u001b[0;32m~/opt/anaconda3/lib/python3.8/site-packages/pandas/core/generic.py\u001b[0m in \u001b[0;36mto_csv\u001b[0;34m(self, path_or_buf, sep, na_rep, float_format, columns, header, index, index_label, mode, encoding, compression, quoting, quotechar, line_terminator, chunksize, date_format, doublequote, escapechar, decimal)\u001b[0m\n\u001b[1;32m   3202\u001b[0m             \u001b[0mdecimal\u001b[0m\u001b[0;34m=\u001b[0m\u001b[0mdecimal\u001b[0m\u001b[0;34m,\u001b[0m\u001b[0;34m\u001b[0m\u001b[0;34m\u001b[0m\u001b[0m\n\u001b[1;32m   3203\u001b[0m         )\n\u001b[0;32m-> 3204\u001b[0;31m         \u001b[0mformatter\u001b[0m\u001b[0;34m.\u001b[0m\u001b[0msave\u001b[0m\u001b[0;34m(\u001b[0m\u001b[0;34m)\u001b[0m\u001b[0;34m\u001b[0m\u001b[0;34m\u001b[0m\u001b[0m\n\u001b[0m\u001b[1;32m   3205\u001b[0m \u001b[0;34m\u001b[0m\u001b[0m\n\u001b[1;32m   3206\u001b[0m         \u001b[0;32mif\u001b[0m \u001b[0mpath_or_buf\u001b[0m \u001b[0;32mis\u001b[0m \u001b[0;32mNone\u001b[0m\u001b[0;34m:\u001b[0m\u001b[0;34m\u001b[0m\u001b[0;34m\u001b[0m\u001b[0m\n",
      "\u001b[0;32m~/opt/anaconda3/lib/python3.8/site-packages/pandas/io/formats/csvs.py\u001b[0m in \u001b[0;36msave\u001b[0;34m(self)\u001b[0m\n\u001b[1;32m    182\u001b[0m             \u001b[0mclose\u001b[0m \u001b[0;34m=\u001b[0m \u001b[0;32mFalse\u001b[0m\u001b[0;34m\u001b[0m\u001b[0;34m\u001b[0m\u001b[0m\n\u001b[1;32m    183\u001b[0m         \u001b[0;32melse\u001b[0m\u001b[0;34m:\u001b[0m\u001b[0;34m\u001b[0m\u001b[0;34m\u001b[0m\u001b[0m\n\u001b[0;32m--> 184\u001b[0;31m             f, handles = get_handle(\n\u001b[0m\u001b[1;32m    185\u001b[0m                 \u001b[0mself\u001b[0m\u001b[0;34m.\u001b[0m\u001b[0mpath_or_buf\u001b[0m\u001b[0;34m,\u001b[0m\u001b[0;34m\u001b[0m\u001b[0;34m\u001b[0m\u001b[0m\n\u001b[1;32m    186\u001b[0m                 \u001b[0mself\u001b[0m\u001b[0;34m.\u001b[0m\u001b[0mmode\u001b[0m\u001b[0;34m,\u001b[0m\u001b[0;34m\u001b[0m\u001b[0;34m\u001b[0m\u001b[0m\n",
      "\u001b[0;32m~/opt/anaconda3/lib/python3.8/site-packages/pandas/io/common.py\u001b[0m in \u001b[0;36mget_handle\u001b[0;34m(path_or_buf, mode, encoding, compression, memory_map, is_text)\u001b[0m\n\u001b[1;32m    426\u001b[0m         \u001b[0;32mif\u001b[0m \u001b[0mencoding\u001b[0m\u001b[0;34m:\u001b[0m\u001b[0;34m\u001b[0m\u001b[0;34m\u001b[0m\u001b[0m\n\u001b[1;32m    427\u001b[0m             \u001b[0;31m# Encoding\u001b[0m\u001b[0;34m\u001b[0m\u001b[0;34m\u001b[0m\u001b[0;34m\u001b[0m\u001b[0m\n\u001b[0;32m--> 428\u001b[0;31m             \u001b[0mf\u001b[0m \u001b[0;34m=\u001b[0m \u001b[0mopen\u001b[0m\u001b[0;34m(\u001b[0m\u001b[0mpath_or_buf\u001b[0m\u001b[0;34m,\u001b[0m \u001b[0mmode\u001b[0m\u001b[0;34m,\u001b[0m \u001b[0mencoding\u001b[0m\u001b[0;34m=\u001b[0m\u001b[0mencoding\u001b[0m\u001b[0;34m,\u001b[0m \u001b[0mnewline\u001b[0m\u001b[0;34m=\u001b[0m\u001b[0;34m\"\"\u001b[0m\u001b[0;34m)\u001b[0m\u001b[0;34m\u001b[0m\u001b[0;34m\u001b[0m\u001b[0m\n\u001b[0m\u001b[1;32m    429\u001b[0m         \u001b[0;32melif\u001b[0m \u001b[0mis_text\u001b[0m\u001b[0;34m:\u001b[0m\u001b[0;34m\u001b[0m\u001b[0;34m\u001b[0m\u001b[0m\n\u001b[1;32m    430\u001b[0m             \u001b[0;31m# No explicit encoding\u001b[0m\u001b[0;34m\u001b[0m\u001b[0;34m\u001b[0m\u001b[0;34m\u001b[0m\u001b[0m\n",
      "\u001b[0;31mFileNotFoundError\u001b[0m: [Errno 2] No such file or directory: 'aggregate_datahunts/100059_85579cf2-e01c-45c5-b9e7-34b40467148d_user_contributions.csv'"
     ]
    }
   ],
   "source": [
    "convert_to_csv_user_article(clean_data, \"85579cf2-e01c-45c5-b9e7-34b40467148d\", 100059)"
   ]
  },
  {
   "cell_type": "markdown",
   "metadata": {},
   "source": [
    "## Branch 2\n",
    "### Points based on Topic Name, Question Number, Answer Number"
   ]
  },
  {
   "cell_type": "code",
   "execution_count": 16,
   "metadata": {},
   "outputs": [],
   "source": [
    "weight_key = pd.read_csv('weight_key.csv')"
   ]
  },
  {
   "cell_type": "code",
   "execution_count": 17,
   "metadata": {},
   "outputs": [],
   "source": [
    "\"\"\"\n",
    "create_eta_datahunt will create Explore The Article datahunt csvs containing the \n",
    "predicted individual contribution for each question asked by Tagworks.\n",
    "    @param raw_data: the dataframe returned after aggregating datahunt csvs\n",
    "    @param weight_key: a weight key that connects a question and answer to a score\n",
    "    @param article_number: the article to create the eta_datahunt file for\n",
    "    @param contributor_id: the contributor requesting the data\n",
    "    @return: None. Writes a dataframe of the proper format to be fed into Visualization.html. Contains the predicted point values and labels for the individual contributions to Tagworks. This csv file is in eta_datahunts.\n",
    "\n",
    "\"\"\"\n",
    "def create_eta_datahunt(raw_data, weight_key, article_number, contributor_id):\n",
    "    raw_data = raw_data.loc[raw_data[\"article_number\"] == article_number]\n",
    "    if raw_data.empty:\n",
    "        new_df = pd.DataFrame([[\"no_article\", 0, 0, 0, 0, 0, 0]], columns=['Credibility Indicator Category', 'Question Number', 'Answer Number','Point Recommendation', 'Credibility Indicator Name', 'Start', 'End'])\n",
    "    else:\n",
    "        raw_data = raw_data.loc[raw_data[\"contributor_uuid\"] == contributor_id]\n",
    "        if raw_data.empty:\n",
    "            new_df = pd.DataFrame([['no_user', 0, 0, 0, 0, 0, 0]], columns=['Credibility Indicator Category', 'Question Number', 'Answer Number','Point Recommendation', 'Credibility Indicator Name', 'Start', 'End'])\n",
    "        else:\n",
    "            new_df = pd.DataFrame()\n",
    "            for row_num in raw_data.index:\n",
    "                new_row = new_from_row(raw_data, row_num)\n",
    "                if (new_row.empty):\n",
    "                    continue\n",
    "                else:\n",
    "                    new_df = new_df.append(new_row)\n",
    "    new_df.to_csv(\"eta_datahunts/\" + str(article_number) + \"_\" +\n",
    "                  str(contributor_id) +\n",
    "                  \"_user_contributions.csv\")"
   ]
  },
  {
   "cell_type": "code",
   "execution_count": 18,
   "metadata": {},
   "outputs": [],
   "source": [
    "\"\"\"\n",
    "\n",
    "Extracts question and answer number of a topic. \n",
    "    @param df: the raw_data dataframe\n",
    "    @param row_number: the row of df that we are trying to extract the question and answer from\n",
    "    @return: the row from the df with the question and answer values appended to the row.\n",
    "    \n",
    "\n",
    "\"\"\"\n",
    "\n",
    "def get_TopicQA(df, row_number):\n",
    "    select_df = df[['topic_name', 'question_label', 'answer_label', 'start_pos', 'end_pos']].copy()\n",
    "    select_df['topic_name'] = select_df['topic_name'].apply(lambda x: x.split(' ')[0])\n",
    "    select_df['question_label'] = select_df['question_label'].apply(lambda x: re.findall('Q\\d+', x)[0])\n",
    "    select_df['answer_label'] = select_df['answer_label'].apply(lambda x: re.findall('A\\d+', x)[0])\n",
    "    \n",
    "    return select_df[select_df.index == row_number]"
   ]
  },
  {
   "cell_type": "markdown",
   "metadata": {},
   "source": [
    "need to get points and label from weight key csv\n",
    "want point value (col F), topic (category), subset (col G - label) \n",
    " - extract this from weight_key csv (do string parsing - slice out the “Specialist” part)\n",
    "into new data frame —> csv — different csv name from previous ones"
   ]
  },
  {
   "cell_type": "code",
   "execution_count": 19,
   "metadata": {},
   "outputs": [],
   "source": [
    "\"\"\"\n",
    "Gets points and label from csv.\n",
    "    @param df: the raw_data dataframe\n",
    "    @param row_number: the row of df that we are trying to extract the question and answer from\n",
    "    @return: the row from the df with the points, labels, start and end indices appended to the row.\n",
    "\n",
    "\"\"\"\n",
    "\n",
    "def new_from_row(df, row_number):\n",
    "    \n",
    "    TQA_row = get_TopicQA(df, row_number)\n",
    "    TQA_question = int(TQA_row[TQA_row.index == row_number]['question_label'][row_number][1:])\n",
    "    TQA_answer = int(TQA_row[TQA_row.index == row_number]['answer_label'][row_number][1:])\n",
    "    TQA_schema = TQA_row[TQA_row.index == row_number]['topic_name'][row_number]\n",
    "    new_df = weight_key[(weight_key['Question_Number'] == float(TQA_question)) & (weight_key['Answer_Number'] == float(TQA_answer)) & (weight_key['Schema'] == TQA_schema)]\n",
    "    if new_df.empty:\n",
    "        print(\"There is no algorithm output for question \", TQA_question, \n",
    "              \",answer \", TQA_answer, \", and category \", TQA_schema)\n",
    "        return new_df\n",
    "    else:\n",
    "        new_df = new_df.drop(columns=['Question_Number_V2', 'Question_Type', 'Key Question', 'answer_uuid'])\n",
    "        new_df = new_df.rename(columns={'Question_Number': 'Question Number', 'Answer_Number':'Answer Number', 'Point_Recommendation': 'Point Recommendation', \"Schema\": \"Credibility Indicator Category\", \"Label\": \"Credibility Indicator Name\"})\n",
    "        new_df['Start'] = np.array(TQA_row['start_pos'])\n",
    "        new_df['End'] = np.array(TQA_row['end_pos'])\n",
    "        return new_df\n",
    "    "
   ]
  },
  {
   "cell_type": "code",
   "execution_count": 20,
   "metadata": {},
   "outputs": [],
   "source": [
    "create_eta_datahunt(raw_data, weight_key, 100059, \"a\")"
   ]
  },
  {
   "cell_type": "code",
   "execution_count": null,
   "metadata": {},
   "outputs": [],
   "source": []
  }
 ],
 "metadata": {
  "kernelspec": {
   "display_name": "Python 3",
   "language": "python",
   "name": "python3"
  },
  "language_info": {
   "codemirror_mode": {
    "name": "ipython",
    "version": 3
   },
   "file_extension": ".py",
   "mimetype": "text/x-python",
   "name": "python",
   "nbconvert_exporter": "python",
   "pygments_lexer": "ipython3",
   "version": "3.8.3"
  }
 },
 "nbformat": 4,
 "nbformat_minor": 4
}
