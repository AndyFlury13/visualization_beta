{
 "cells": [
  {
   "cell_type": "markdown",
   "metadata": {},
   "source": [
    "# TEST_CSV FILE"
   ]
  },
  {
   "cell_type": "code",
   "execution_count": null,
   "metadata": {},
   "outputs": [],
   "source": [
    "import json\n",
    "import csv\n",
    "import os\n",
    "import glob\n",
    "import pandas as pd\n",
    "import numpy as np"
   ]
  },
  {
   "cell_type": "code",
   "execution_count": 4,
   "metadata": {},
   "outputs": [],
   "source": [
    "def read_csv_from_path(path):\n",
    "    return pd.read_csv(path)"
   ]
  },
  {
   "cell_type": "code",
   "execution_count": 11,
   "metadata": {},
   "outputs": [],
   "source": [
    "highlight = read_csv_from_path('data/form_csvs/Covid_Form1.0-2021-02-04T0059-Highlighter.csv')"
   ]
  },
  {
   "cell_type": "code",
   "execution_count": 12,
   "metadata": {},
   "outputs": [
    {
     "data": {
      "text/html": [
       "<div>\n",
       "<style scoped>\n",
       "    .dataframe tbody tr th:only-of-type {\n",
       "        vertical-align: middle;\n",
       "    }\n",
       "\n",
       "    .dataframe tbody tr th {\n",
       "        vertical-align: top;\n",
       "    }\n",
       "\n",
       "    .dataframe thead th {\n",
       "        text-align: right;\n",
       "    }\n",
       "</style>\n",
       "<table border=\"1\" class=\"dataframe\">\n",
       "  <thead>\n",
       "    <tr style=\"text-align: right;\">\n",
       "      <th></th>\n",
       "      <th>highlight_task_uuid</th>\n",
       "      <th>task_url</th>\n",
       "      <th>tua_uuid</th>\n",
       "      <th>article_batch_name</th>\n",
       "      <th>article_number</th>\n",
       "      <th>article_filename</th>\n",
       "      <th>article_sha256</th>\n",
       "      <th>article_text_length</th>\n",
       "      <th>destination</th>\n",
       "      <th>task_redundancy</th>\n",
       "      <th>...</th>\n",
       "      <th>finish_time</th>\n",
       "      <th>elapsed_seconds</th>\n",
       "      <th>hg_tua_uuid</th>\n",
       "      <th>namespace</th>\n",
       "      <th>topic_name</th>\n",
       "      <th>case_number</th>\n",
       "      <th>highlight_count</th>\n",
       "      <th>start_pos</th>\n",
       "      <th>end_pos</th>\n",
       "      <th>target_text</th>\n",
       "    </tr>\n",
       "  </thead>\n",
       "  <tbody>\n",
       "    <tr>\n",
       "      <th>0</th>\n",
       "      <td>a6b4bf8a-e6b3-4ab7-93cc-cda717a321b8</td>\n",
       "      <td>https://pe.goodlylabs.org/project/Covid_Form1....</td>\n",
       "      <td>NaN</td>\n",
       "      <td>CovidArticles/2005CIAReportOnCoronavirus.txt</td>\n",
       "      <td>2005</td>\n",
       "      <td>2005CIAReportOnCoronavirus.txt</td>\n",
       "      <td>47990959103662e94e796d979018922afddc880fb4b867...</td>\n",
       "      <td>3885</td>\n",
       "      <td>PYBOSSA</td>\n",
       "      <td>11</td>\n",
       "      <td>...</td>\n",
       "      <td>2020-03-19 16:23:39.746912</td>\n",
       "      <td>2418.144656</td>\n",
       "      <td>48bc2d29-12a8-42a2-aa5c-1da461e36132</td>\n",
       "      <td>Form.2020_03txt</td>\n",
       "      <td>Quoted Sources</td>\n",
       "      <td>1</td>\n",
       "      <td>1</td>\n",
       "      <td>824</td>\n",
       "      <td>1058</td>\n",
       "      <td>CIA experts described a scenario very close to...</td>\n",
       "    </tr>\n",
       "    <tr>\n",
       "      <th>1</th>\n",
       "      <td>a6b4bf8a-e6b3-4ab7-93cc-cda717a321b8</td>\n",
       "      <td>https://pe.goodlylabs.org/project/Covid_Form1....</td>\n",
       "      <td>NaN</td>\n",
       "      <td>CovidArticles/2005CIAReportOnCoronavirus.txt</td>\n",
       "      <td>2005</td>\n",
       "      <td>2005CIAReportOnCoronavirus.txt</td>\n",
       "      <td>47990959103662e94e796d979018922afddc880fb4b867...</td>\n",
       "      <td>3885</td>\n",
       "      <td>PYBOSSA</td>\n",
       "      <td>11</td>\n",
       "      <td>...</td>\n",
       "      <td>2020-03-19 16:23:39.746912</td>\n",
       "      <td>2418.144656</td>\n",
       "      <td>2f56da66-7ef4-429a-95e3-534febd6807d</td>\n",
       "      <td>Form.2020_03txt</td>\n",
       "      <td>Quoted Sources</td>\n",
       "      <td>2</td>\n",
       "      <td>1</td>\n",
       "      <td>1064</td>\n",
       "      <td>1562</td>\n",
       "      <td>The emergence of a pandemic depends on the nat...</td>\n",
       "    </tr>\n",
       "    <tr>\n",
       "      <th>2</th>\n",
       "      <td>a6b4bf8a-e6b3-4ab7-93cc-cda717a321b8</td>\n",
       "      <td>https://pe.goodlylabs.org/project/Covid_Form1....</td>\n",
       "      <td>NaN</td>\n",
       "      <td>CovidArticles/2005CIAReportOnCoronavirus.txt</td>\n",
       "      <td>2005</td>\n",
       "      <td>2005CIAReportOnCoronavirus.txt</td>\n",
       "      <td>47990959103662e94e796d979018922afddc880fb4b867...</td>\n",
       "      <td>3885</td>\n",
       "      <td>PYBOSSA</td>\n",
       "      <td>11</td>\n",
       "      <td>...</td>\n",
       "      <td>2020-03-19 16:23:39.746912</td>\n",
       "      <td>2418.144656</td>\n",
       "      <td>d4627b54-2e62-4967-9ccf-fcc0f0d741b5</td>\n",
       "      <td>Form.2020_03txt</td>\n",
       "      <td>Quoted Sources</td>\n",
       "      <td>3</td>\n",
       "      <td>1</td>\n",
       "      <td>1624</td>\n",
       "      <td>1879</td>\n",
       "      <td>The country of origin probably will not have a...</td>\n",
       "    </tr>\n",
       "    <tr>\n",
       "      <th>3</th>\n",
       "      <td>a6b4bf8a-e6b3-4ab7-93cc-cda717a321b8</td>\n",
       "      <td>https://pe.goodlylabs.org/project/Covid_Form1....</td>\n",
       "      <td>NaN</td>\n",
       "      <td>CovidArticles/2005CIAReportOnCoronavirus.txt</td>\n",
       "      <td>2005</td>\n",
       "      <td>2005CIAReportOnCoronavirus.txt</td>\n",
       "      <td>47990959103662e94e796d979018922afddc880fb4b867...</td>\n",
       "      <td>3885</td>\n",
       "      <td>PYBOSSA</td>\n",
       "      <td>11</td>\n",
       "      <td>...</td>\n",
       "      <td>2020-03-19 16:23:39.746912</td>\n",
       "      <td>2418.144656</td>\n",
       "      <td>323f67ef-6a7a-4719-b52f-fcc4990fe801</td>\n",
       "      <td>Form.2020_03txt</td>\n",
       "      <td>Quoted Sources</td>\n",
       "      <td>4</td>\n",
       "      <td>2</td>\n",
       "      <td>1931</td>\n",
       "      <td>2129</td>\n",
       "      <td>Despite restrictions on international movement...</td>\n",
       "    </tr>\n",
       "    <tr>\n",
       "      <th>4</th>\n",
       "      <td>a6b4bf8a-e6b3-4ab7-93cc-cda717a321b8</td>\n",
       "      <td>https://pe.goodlylabs.org/project/Covid_Form1....</td>\n",
       "      <td>NaN</td>\n",
       "      <td>CovidArticles/2005CIAReportOnCoronavirus.txt</td>\n",
       "      <td>2005</td>\n",
       "      <td>2005CIAReportOnCoronavirus.txt</td>\n",
       "      <td>47990959103662e94e796d979018922afddc880fb4b867...</td>\n",
       "      <td>3885</td>\n",
       "      <td>PYBOSSA</td>\n",
       "      <td>11</td>\n",
       "      <td>...</td>\n",
       "      <td>2020-03-19 16:23:39.746912</td>\n",
       "      <td>2418.144656</td>\n",
       "      <td>323f67ef-6a7a-4719-b52f-fcc4990fe801</td>\n",
       "      <td>Form.2020_03txt</td>\n",
       "      <td>Quoted Sources</td>\n",
       "      <td>4</td>\n",
       "      <td>2</td>\n",
       "      <td>2133</td>\n",
       "      <td>2436</td>\n",
       "      <td>The report predicts areas and circumstances of...</td>\n",
       "    </tr>\n",
       "  </tbody>\n",
       "</table>\n",
       "<p>5 rows × 24 columns</p>\n",
       "</div>"
      ],
      "text/plain": [
       "                    highlight_task_uuid  \\\n",
       "0  a6b4bf8a-e6b3-4ab7-93cc-cda717a321b8   \n",
       "1  a6b4bf8a-e6b3-4ab7-93cc-cda717a321b8   \n",
       "2  a6b4bf8a-e6b3-4ab7-93cc-cda717a321b8   \n",
       "3  a6b4bf8a-e6b3-4ab7-93cc-cda717a321b8   \n",
       "4  a6b4bf8a-e6b3-4ab7-93cc-cda717a321b8   \n",
       "\n",
       "                                            task_url  tua_uuid  \\\n",
       "0  https://pe.goodlylabs.org/project/Covid_Form1....       NaN   \n",
       "1  https://pe.goodlylabs.org/project/Covid_Form1....       NaN   \n",
       "2  https://pe.goodlylabs.org/project/Covid_Form1....       NaN   \n",
       "3  https://pe.goodlylabs.org/project/Covid_Form1....       NaN   \n",
       "4  https://pe.goodlylabs.org/project/Covid_Form1....       NaN   \n",
       "\n",
       "                             article_batch_name  article_number  \\\n",
       "0  CovidArticles/2005CIAReportOnCoronavirus.txt            2005   \n",
       "1  CovidArticles/2005CIAReportOnCoronavirus.txt            2005   \n",
       "2  CovidArticles/2005CIAReportOnCoronavirus.txt            2005   \n",
       "3  CovidArticles/2005CIAReportOnCoronavirus.txt            2005   \n",
       "4  CovidArticles/2005CIAReportOnCoronavirus.txt            2005   \n",
       "\n",
       "                 article_filename  \\\n",
       "0  2005CIAReportOnCoronavirus.txt   \n",
       "1  2005CIAReportOnCoronavirus.txt   \n",
       "2  2005CIAReportOnCoronavirus.txt   \n",
       "3  2005CIAReportOnCoronavirus.txt   \n",
       "4  2005CIAReportOnCoronavirus.txt   \n",
       "\n",
       "                                      article_sha256  article_text_length  \\\n",
       "0  47990959103662e94e796d979018922afddc880fb4b867...                 3885   \n",
       "1  47990959103662e94e796d979018922afddc880fb4b867...                 3885   \n",
       "2  47990959103662e94e796d979018922afddc880fb4b867...                 3885   \n",
       "3  47990959103662e94e796d979018922afddc880fb4b867...                 3885   \n",
       "4  47990959103662e94e796d979018922afddc880fb4b867...                 3885   \n",
       "\n",
       "  destination  task_redundancy  ...                 finish_time  \\\n",
       "0     PYBOSSA               11  ...  2020-03-19 16:23:39.746912   \n",
       "1     PYBOSSA               11  ...  2020-03-19 16:23:39.746912   \n",
       "2     PYBOSSA               11  ...  2020-03-19 16:23:39.746912   \n",
       "3     PYBOSSA               11  ...  2020-03-19 16:23:39.746912   \n",
       "4     PYBOSSA               11  ...  2020-03-19 16:23:39.746912   \n",
       "\n",
       "  elapsed_seconds                           hg_tua_uuid        namespace  \\\n",
       "0     2418.144656  48bc2d29-12a8-42a2-aa5c-1da461e36132  Form.2020_03txt   \n",
       "1     2418.144656  2f56da66-7ef4-429a-95e3-534febd6807d  Form.2020_03txt   \n",
       "2     2418.144656  d4627b54-2e62-4967-9ccf-fcc0f0d741b5  Form.2020_03txt   \n",
       "3     2418.144656  323f67ef-6a7a-4719-b52f-fcc4990fe801  Form.2020_03txt   \n",
       "4     2418.144656  323f67ef-6a7a-4719-b52f-fcc4990fe801  Form.2020_03txt   \n",
       "\n",
       "       topic_name  case_number highlight_count start_pos end_pos  \\\n",
       "0  Quoted Sources            1               1       824    1058   \n",
       "1  Quoted Sources            2               1      1064    1562   \n",
       "2  Quoted Sources            3               1      1624    1879   \n",
       "3  Quoted Sources            4               2      1931    2129   \n",
       "4  Quoted Sources            4               2      2133    2436   \n",
       "\n",
       "                                         target_text  \n",
       "0  CIA experts described a scenario very close to...  \n",
       "1  The emergence of a pandemic depends on the nat...  \n",
       "2  The country of origin probably will not have a...  \n",
       "3  Despite restrictions on international movement...  \n",
       "4  The report predicts areas and circumstances of...  \n",
       "\n",
       "[5 rows x 24 columns]"
      ]
     },
     "execution_count": 12,
     "metadata": {},
     "output_type": "execute_result"
    }
   ],
   "source": [
    "highlight.head()"
   ]
  },
  {
   "cell_type": "code",
   "execution_count": 8,
   "metadata": {},
   "outputs": [],
   "source": [
    "bycase = read_csv_from_path('data/form_csvs/Covid_Form1.0-2021-02-04T0059-HighlighterByCase.csv')"
   ]
  },
  {
   "cell_type": "code",
   "execution_count": 25,
   "metadata": {},
   "outputs": [
    {
     "data": {
      "text/plain": [
       "array([     2005,    100054,    100055,    100056,    100057,    100058,\n",
       "          100059,    100062,    100063,    100064,    100065,    100066,\n",
       "          100067,    493798,    493799,    493800,    493801,    493802,\n",
       "          493803,    493804,    493805,    495430, 530712006, 530712007])"
      ]
     },
     "execution_count": 25,
     "metadata": {},
     "output_type": "execute_result"
    }
   ],
   "source": [
    "bycase['article_number'].unique()"
   ]
  },
  {
   "cell_type": "code",
   "execution_count": 26,
   "metadata": {},
   "outputs": [
    {
     "data": {
      "text/plain": [
       "array([     2005,    100054,    100055,    100056,    100057,    100058,\n",
       "          100059,    100062,    100063,    100064,    100065,    100066,\n",
       "          100067,    493798,    493799,    493800,    493801,    493802,\n",
       "          493803,    493804,    493805,    495430, 530712006, 530712007])"
      ]
     },
     "execution_count": 26,
     "metadata": {},
     "output_type": "execute_result"
    }
   ],
   "source": [
    "highlight['article_number'].unique()"
   ]
  },
  {
   "cell_type": "code",
   "execution_count": 21,
   "metadata": {},
   "outputs": [],
   "source": [
    "x = bycase['article_number'].unique()"
   ]
  },
  {
   "cell_type": "code",
   "execution_count": 19,
   "metadata": {},
   "outputs": [],
   "source": [
    "y = highlight['article_number'].unique()"
   ]
  },
  {
   "cell_type": "code",
   "execution_count": 24,
   "metadata": {},
   "outputs": [
    {
     "data": {
      "text/plain": [
       "24"
      ]
     },
     "execution_count": 24,
     "metadata": {},
     "output_type": "execute_result"
    }
   ],
   "source": [
    "len(x)"
   ]
  },
  {
   "cell_type": "code",
   "execution_count": null,
   "metadata": {},
   "outputs": [],
   "source": []
  }
 ],
 "metadata": {
  "kernelspec": {
   "display_name": "Python 3",
   "language": "python",
   "name": "python3"
  },
  "language_info": {
   "codemirror_mode": {
    "name": "ipython",
    "version": 3
   },
   "file_extension": ".py",
   "mimetype": "text/x-python",
   "name": "python",
   "nbconvert_exporter": "python",
   "pygments_lexer": "ipython3",
   "version": "3.8.3"
  }
 },
 "nbformat": 4,
 "nbformat_minor": 4
}
